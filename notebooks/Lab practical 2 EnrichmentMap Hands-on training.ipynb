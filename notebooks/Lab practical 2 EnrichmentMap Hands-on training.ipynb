{
 "cells": [
  {
   "cell_type": "markdown",
   "metadata": {},
   "source": [
    "# Lab practical 2: EnrichmentMap Hands-on training"
   ]
  },
  {
   "cell_type": "markdown",
   "metadata": {},
   "source": [
    "----------------------"
   ]
  },
  {
   "cell_type": "code",
   "execution_count": null,
   "metadata": {
    "collapsed": true
   },
   "outputs": [],
   "source": []
  },
  {
   "cell_type": "markdown",
   "metadata": {},
   "source": [
    "-----------------------"
   ]
  },
  {
   "cell_type": "markdown",
   "metadata": {},
   "source": [
    "## Goal of the exercise:\n",
    "\n",
    "### 1. Create an Enrichmentmap and navigate through the network\n",
    "During this exercise, you will  learn how to create an EnrichmentMap from gene-set enrichment results. The enrichment tool chosen for this exercise is GSEA but an enrichment map can be created from various gene-set tools using the generic format or the more specific g:Profiler or BiNGO interface. \n",
    "\n",
    "### 2. Post analysis (add drug target gene-sets to the network)\n",
    "As second part of the exercise, you will learn how to expand the network by adding an extra layer of information.\n",
    "\n",
    "### 3. Autoannotate\n",
    "A last optional exercise guides you toward the creation of  automatically generated cluster labels to the network.\n"
   ]
  },
  {
   "cell_type": "markdown",
   "metadata": {},
   "source": [
    "## Introduction\n",
    "\n",
    "### Data\n",
    "The data used in this exercise is gene expression data obtained from high throughput RNA sequencing. They correspond to Ovarian serous cystadenocarcinoma samples. This cohort was previously stratified into four distinct expression subtypes  [<a href=https://www.ncbi.nlm.nih.gov/pubmed/21720365> PMID:21720365</a> ] and a subset of the immunoreactive and mesenchymal subtypes are used to demonstrate the enrichment map workflow.\n",
    "\n",
    "### How was the data processed?\n",
    "Gene expression from the TCGA Ovarian serous cystadenocarcinoma RNASeq V2 cohort was downloaded on 2015-05-22 from cBioPortal for Cancer Genomics (http:// www.cbioportal.org/data_sets.jsp). Differential expression for all genes between the mesenchymal and immunoreactive groups were estimated using edgeR [<a href=https://www.ncbi.nlm.nih.gov/pubmed/19910308> PMID:19910308 </a>]. A score was calculated to rank the genes from top up-regulated to top down-regulated (-log10 * pvalue). This rank list was used as input to Gene Set Enrichment Analysis (GSEA, http://software.broadinstitute.org/gsea/index.jsp) using the preranked option. The pathway database used for the GSEA analysis was downloaded from http://baderlab.org/GeneSets. \n",
    "\n",
    "### GSEA output and EnrichmentMap\n",
    "The output results of GSEA are 2 tables:\n",
    "  * One table (“pos”) contains all pathways with an enrichment score (significant or not) related to enrichment of the mesenchymal category (positive score). \n",
    "  * One table (“neg” contains all pathways with an enrichment  score (significant or not) related to enrichment of the immunoreactive category (negative score).  \n",
    "  These 2 tables are uploaded using the EnrichmentMap App which will create a network of mesenchymal and immunoreactive pathways that have a significant score (FDR <= 0.0001) for clearer visualization of the results.\n",
    "  \n",
    "### EnrichmentMap\n",
    "  * A red circle (node) is a pathway specific of the mesenchymal type. \n",
    "  * A blue circle (node) is a pathway specific of the immunoreactive type. \n",
    "  * Green edges represent genes in common between 2 pathways (nodes). \n",
    "  * A cluster of nodes represent overlapping and related pathways and may represent a common biological process. \n",
    "  * Clicking on a node will display the genes included in each pathway. \n",
    "\n",
    "## Start the exercise\n",
    "To start the lab practical section,  first download the files (click on each file to download it to your computer - or download the set as a zip file <a href=\"workshop_data/gsea_labpractical2_files.zip\" download=\"gsea_labpractical2_files.zip\">gsea_labpractical2_files.zip</A> )\n",
    "\n",
    "** 7 Files are needed to create the enrichment map for this exercise (please download these files on your computer - :**\n",
    "\n",
    " 1. GMT [file containing all pathways and corresponding genes] - <a href=\"workshop_data/Human_GOBP_AllPathways_no_GO_iea_December_24_2015_symbol.gmt\" download=\"Human_GOBP_AllPathways_no_GO_iea_December_24_2015_symbol.gmt\">Human_GOBP_AllPathways_no_GO_iea_December_24_2015_symbol.gmt</A>\n",
    " 1. Expression [file containing the RNAseq data for all samples and all genes] - <a href=\"workshop_data/MesenchymalvsImmunoreactive_seq_expression.txt\" download=\"MesenchymalvsImmunoreactive_rnaseq_expression.txt\">MesenchymalvsImmunoreactive_rnaseq_expression.txt</A>\n",
    " 1. Enrichments 1 [GSEA results for the “pos” mesenchymal phenotype] - <a href=\"workshop_data/gsea_report_for_na_pos_1453222854028.xls\" download=\"gsea_report_for_na_pos_1453222854028.xls\">gsea_report_for_na_pos_1453222854028.xls</A>\n",
    " 1. Enrichments 1 [GSEA results for the “neg” immunoreactive phenotype] - <a href=\"workshop_data/gsea_report_for_na_neg_1453222854028.xls\" download=\"gsea_report_for_na_neg_1453222854028.xls\">gsea_report_for_na_neg_1453222854028.xls</A>\n",
    " 1. Rank file  [file that has been used as input to GSEA] -  <a href=\"workshop_data/MesenchymalvsImmunoreactive_edger_ranks.rnk\" download=\"MesenchymalvsImmunoreactive_edger_ranks.rnk\">MesenchymalvsImmunoreactive_edger_ranks.rnk</A>\n",
    " 1. Classes [define which samples are mesenchymal and which samples are immunoreactive] - <a href=\"workshop_data/MesenchymalvsImmunoreactive_rnaseq_classes.cls\" download=\"MesenchymalvsImmunoreactive_rnaseq_classes.cls\">MesenchymalvsImmunoreactive_rnaseq_classes.cls</A>\n",
    " 1. Drug target database [preselection of 4 drugs and their target genes u sed in the poast -analysis exercise ,http://www.drugbank.ca/] - <a href=\"workshop_data/Human_DrugBank_approved_symbol_selected.gmt\" download=\"Human_DrugBank_approved_symbol_selected.gmt\">Human_DrugBank_approved_symbol_selected.gmt</A>\n",
    "\n",
    " ><span style=\"color:purple\">** TIP:If your browser doesn't automatically download either of the above files but instead opens it in your browser.  Right click and select \"save as\".  ** </span>\n",
    "\n",
    "\n",
    "* Follow the steps described below at your own pace.\n",
    "* Check a step once you have completed it.\n",
    "* One optional exercise is placed at the bottom of the page\n",
    "* Answer to the questions are written at the very end of the document.\n"
   ]
  },
  {
   "cell_type": "markdown",
   "metadata": {},
   "source": [
    "## Steps\n",
    "\n",
    " 1. Launch cytoscape\n",
    " 1. Create an EnrichmentMap by following [lab practical - part 1]("
   ]
  }
 ],
 "metadata": {
  "kernelspec": {
   "display_name": "R",
   "language": "R",
   "name": "ir"
  },
  "language_info": {
   "codemirror_mode": "r",
   "file_extension": ".r",
   "mimetype": "text/x-r-source",
   "name": "R",
   "pygments_lexer": "r",
   "version": "3.2.2"
  }
 },
 "nbformat": 4,
 "nbformat_minor": 0
}
